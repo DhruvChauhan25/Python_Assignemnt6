{
 "cells": [
  {
   "cell_type": "markdown",
   "id": "b3440161",
   "metadata": {},
   "source": [
    "# 1. What are escape characters, and how do you use them?"
   ]
  },
  {
   "cell_type": "code",
   "execution_count": 6,
   "id": "21fe4e78",
   "metadata": {},
   "outputs": [
    {
     "data": {
      "text/plain": [
       "'To insert characters that are illegal in a string use an escape character. An escape character is a backslash \\\\ followed by the character you want to insert.'"
      ]
     },
     "execution_count": 6,
     "metadata": {},
     "output_type": "execute_result"
    }
   ],
   "source": [
    "\"\"\"To insert characters that are illegal in a string use an escape character. An escape character is a backslash \\ followed by the character you want to insert.\"\"\" "
   ]
  },
  {
   "cell_type": "markdown",
   "id": "2966bf4b",
   "metadata": {},
   "source": [
    "# 2. What do the escape characters n and t stand for?"
   ]
  },
  {
   "cell_type": "markdown",
   "id": "498775ec",
   "metadata": {},
   "source": [
    "An escape character n is used to move to the next line. An escape character t is used for a new tab"
   ]
  },
  {
   "cell_type": "markdown",
   "id": "8d4f1d05",
   "metadata": {},
   "source": [
    "# 3. What is the way to include backslash characters in a string?"
   ]
  },
  {
   "cell_type": "code",
   "execution_count": 12,
   "id": "e635033e",
   "metadata": {},
   "outputs": [
    {
     "data": {
      "text/plain": [
       "\"It is used as an escape character to represent special characters within strings. To use backslash itself in a string you need to use a double backslash '' \""
      ]
     },
     "execution_count": 12,
     "metadata": {},
     "output_type": "execute_result"
    }
   ],
   "source": [
    "\"\"\"It is used as an escape character to represent special characters within strings. To use backslash itself in a string you need to use a double backslash '\\' \"\"\""
   ]
  },
  {
   "cell_type": "markdown",
   "id": "3cd36885",
   "metadata": {},
   "source": [
    "# 4. The string &quot;Howl&#39;s Moving Castle&quot; is a correct value. Why isn&#39;t the single quote character in the\n",
    "word Howl&#39;s not escaped a problem?"
   ]
  },
  {
   "cell_type": "markdown",
   "id": "877a758e",
   "metadata": {},
   "source": [
    "single quote character in the word Howl's not escaped a problem because we have used a double quotes to mark the beginning and end of the string."
   ]
  },
  {
   "cell_type": "markdown",
   "id": "e3abd217",
   "metadata": {},
   "source": [
    "# 5. How do you write a string of newlines if you don&#39;t want to use the n character?"
   ]
  },
  {
   "cell_type": "code",
   "execution_count": 42,
   "id": "c7b6dccb",
   "metadata": {},
   "outputs": [
    {
     "data": {
      "text/plain": [
       "'\\nYou can print strings without adding a new line with end = <character>\\n<character> is the character that will be used to separate\\n'"
      ]
     },
     "execution_count": 42,
     "metadata": {},
     "output_type": "execute_result"
    }
   ],
   "source": [
    "\"\"\"\n",
    "You can print strings without adding a new line with end = <character>\n",
    "<character> is the character that will be used to separate\n",
    "\"\"\""
   ]
  },
  {
   "cell_type": "markdown",
   "id": "22492b09",
   "metadata": {},
   "source": [
    "# 6. What are the values of the given expressions?\n",
    "&#39;Hello, world!&#39;[1]\n",
    "&#39;Hello, world!&#39;[0:5]\n",
    "&#39;Hello, world!&#39;[:5]\n",
    "&#39;Hello, world!&#39;[3:]"
   ]
  },
  {
   "cell_type": "code",
   "execution_count": 36,
   "id": "7620f292",
   "metadata": {},
   "outputs": [
    {
     "name": "stdout",
     "output_type": "stream",
     "text": [
      "Hello\n",
      "Hello\n",
      "lo,world!\n"
     ]
    }
   ],
   "source": [
    "# print('Hello,world!'[1])\n",
    "#The value will be 'e'\n",
    "\n",
    "print('Hello,world!'[0:5])\n",
    "#The value will be \" Hello\"\n",
    "\n",
    "print('Hello,world!'[:5])\n",
    "#The value will be \" Hello\"\n",
    "\n",
    "print('Hello,world!'[3:])\n",
    "#The value will be \"lo,world!\""
   ]
  },
  {
   "cell_type": "markdown",
   "id": "e370531d",
   "metadata": {},
   "source": [
    "# 7. What are the values of the following expressions?\n",
    "&#39;Hello&#39;.upper()\n",
    "&#39;Hello&#39;.upper().isupper()\n",
    "&#39;Hello&#39;.upper().lower()"
   ]
  },
  {
   "cell_type": "code",
   "execution_count": 22,
   "id": "945d713d",
   "metadata": {},
   "outputs": [
    {
     "name": "stdout",
     "output_type": "stream",
     "text": [
      "HELLO\n",
      "True\n",
      "hello\n"
     ]
    }
   ],
   "source": [
    "print('Hello'.upper())\n",
    "#The value will be 'HELLO'\n",
    "\n",
    "print('Hello'.upper().isupper())\n",
    "#The value will be boolean output as True\n",
    "\n",
    "print('Hello'.upper().lower())\n",
    "#The value will be 'hello'     \n"
   ]
  },
  {
   "cell_type": "markdown",
   "id": "60ad62fb",
   "metadata": {},
   "source": [
    "# 8. What are the values of the following expressions?\n",
    "&#39;Remember, remember, the fifth of July.&#39;.split()\n",
    "&#39;-&#39;.join(&#39;There can only one.&#39;.split())"
   ]
  },
  {
   "cell_type": "code",
   "execution_count": 29,
   "id": "64c6c4a7",
   "metadata": {},
   "outputs": [
    {
     "data": {
      "text/plain": [
       "['Remember,', 'remember,', 'the', 'fifth', 'of', 'July.']"
      ]
     },
     "execution_count": 29,
     "metadata": {},
     "output_type": "execute_result"
    }
   ],
   "source": [
    "'Remember, remember, the fifth of July.'.split()"
   ]
  },
  {
   "cell_type": "code",
   "execution_count": 30,
   "id": "ab1812af",
   "metadata": {},
   "outputs": [
    {
     "data": {
      "text/plain": [
       "'There-can-only-one.'"
      ]
     },
     "execution_count": 30,
     "metadata": {},
     "output_type": "execute_result"
    }
   ],
   "source": [
    "'-'.join('There can only one.'.split())\n"
   ]
  },
  {
   "cell_type": "markdown",
   "id": "2393f701",
   "metadata": {},
   "source": [
    "# 9. What are the methods for right-justifying, left-justifying, and centering a string?"
   ]
  },
  {
   "cell_type": "code",
   "execution_count": 33,
   "id": "1976f7db",
   "metadata": {},
   "outputs": [
    {
     "name": "stdout",
     "output_type": "stream",
     "text": [
      "                  My name is Dhruv Kumar\n",
      "My name is Dhruv Kumar                  \n",
      "         My name is Dhruv Kumar         \n"
     ]
    }
   ],
   "source": [
    "string=\"My name is Dhruv Kumar\"\n",
    "\"\"\"\n",
    "The methods for right justifying is \"string.rjust(40)\"\n",
    "The methods for left justifying is \"string.ljust(40)\"\n",
    "The methods for centering a string is \"string.center(40)\"\n",
    "\n",
    "\"\"\"\n",
    "print(string.rjust(40))\n",
    "print(string.ljust(40))\n",
    "print(string.center(40))"
   ]
  },
  {
   "cell_type": "markdown",
   "id": "ea3b685c",
   "metadata": {},
   "source": [
    "# 10. What is the best way to remove whitespace characters from the start or end?"
   ]
  },
  {
   "cell_type": "code",
   "execution_count": 35,
   "id": "cf573868",
   "metadata": {},
   "outputs": [
    {
     "data": {
      "text/plain": [
       "\"To remove white space character from the start or end use '.strip()' \""
      ]
     },
     "execution_count": 35,
     "metadata": {},
     "output_type": "execute_result"
    }
   ],
   "source": [
    "\"To remove white space character from the start or end use '.strip()' \""
   ]
  },
  {
   "cell_type": "code",
   "execution_count": null,
   "id": "c87a7239",
   "metadata": {},
   "outputs": [],
   "source": []
  }
 ],
 "metadata": {
  "kernelspec": {
   "display_name": "Python 3 (ipykernel)",
   "language": "python",
   "name": "python3"
  },
  "language_info": {
   "codemirror_mode": {
    "name": "ipython",
    "version": 3
   },
   "file_extension": ".py",
   "mimetype": "text/x-python",
   "name": "python",
   "nbconvert_exporter": "python",
   "pygments_lexer": "ipython3",
   "version": "3.9.7"
  }
 },
 "nbformat": 4,
 "nbformat_minor": 5
}
